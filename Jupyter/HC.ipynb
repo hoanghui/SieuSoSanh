{
 "cells": [
  {
   "cell_type": "code",
   "execution_count": 38,
   "metadata": {},
   "outputs": [
    {
     "name": "stdout",
     "output_type": "stream",
     "text": [
      "[]\n"
     ]
    }
   ],
   "source": [
    "# TV\n",
    "from selenium import webdriver as wb\n",
    "import pandas as pd\n",
    "from tqdm import tqdm\n",
    "import time\n",
    "import json\n",
    "\n",
    "webD = wb.Chrome('C:\\\\Users\\\\Admin\\\\Downloads\\\\chromedriver.exe')\n",
    "webD.get('https://hc.com.vn/ords/c--tivi')\n",
    "\n",
    "hrefLinkList = []\n",
    "condition = True\n",
    "page = 2\n",
    "# while condition:\n",
    "#     time.sleep(4)\n",
    "#     allInfo = webD.find_elements_by_class_name('nk-link-product')\n",
    "#\n",
    "#     for eEle in allInfo:\n",
    "#         hrefLink = eEle.get_property('href')\n",
    "#         hrefLinkList.append(hrefLink)\n",
    "#     try:\n",
    "#         webD.find_elements_by_class_name('btn_next ')[-1].click()\n",
    "#     except:\n",
    "#         condition = False\n",
    "allInfo = webD.find_elements_by_class_name('product-layout col-lg-15 col-md-3 col-sm-3 col-xs-6')\n",
    "print(allInfo)\n",
    "for eEle in allInfo:\n",
    "    d = eEle.find_elements_by_tag_name('a')\n",
    "    hrefLink = d[0].get_property('href')\n",
    "    hrefLinkList.append(hrefLink)\n",
    "    print(hrefLink)\n",
    "    \n",
    "# data = {}\n",
    "# data['productsTV'] = []\n",
    "# for i in tqdm(hrefLinkList):\n",
    "#     webD.get(i)\n",
    "#     time.sleep(1)\n",
    "#     nameOftheProduct = webD.find_element_by_class_name('title-product').text\n",
    "#     priceoftheProduct = webD.find_element_by_class_name('price-new').text\n",
    "#     #     descOfProduct = webD.find_element_by_xpath(\n",
    "#     #         '//*[@id=\"__next\"]/div[1]/main/div[3]/div/div[2]/div[2]/div[1]/div[1]/div[3]/ul')\n",
    "#     tempJ = {'nameOftheProduct': nameOftheProduct,\n",
    "#              'priceoftheProduct': priceoftheProduct[0:-1],\n",
    "#              #              'descOfProduct': descOfProduct,\n",
    "#              'hyperlink': i}\n",
    "#     data['productsTV'].append(tempJ)\n",
    "#     print(data['productsTV'])\n",
    "\n",
    "# pd.DataFrame(data)\n",
    "\n",
    "\n",
    "#Writing to JSON File\n",
    "    \n",
    "# def writeToJSONFile(path, fileName, data):\n",
    "#     filePathNameWExt = './' + path + '/' + fileName + '.json'\n",
    "#     with open(filePathNameWExt, 'w') as fp:\n",
    "#         json.dump(data, fp)\n",
    "\n",
    "# path = './'\n",
    "# fileName = 'TV HC'\n",
    "\n",
    "# writeToJSONFile(path, fileName, data)"
   ]
  },
  {
   "cell_type": "code",
   "execution_count": null,
   "metadata": {},
   "outputs": [],
   "source": []
  }
 ],
 "metadata": {
  "kernelspec": {
   "display_name": "Python 3",
   "language": "python",
   "name": "python3"
  },
  "language_info": {
   "codemirror_mode": {
    "name": "ipython",
    "version": 3
   },
   "file_extension": ".py",
   "mimetype": "text/x-python",
   "name": "python",
   "nbconvert_exporter": "python",
   "pygments_lexer": "ipython3",
   "version": "3.8.5"
  }
 },
 "nbformat": 4,
 "nbformat_minor": 4
}
